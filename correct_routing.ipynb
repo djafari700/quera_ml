{
  "cells": [
    {
      "cell_type": "markdown",
      "metadata": {
        "id": "view-in-github",
        "colab_type": "text"
      },
      "source": [
        "<a href=\"https://colab.research.google.com/github/djafari700/quera_ml/blob/main/correct_routing.ipynb\" target=\"_parent\"><img src=\"https://colab.research.google.com/assets/colab-badge.svg\" alt=\"Open In Colab\"/></a>"
      ]
    },
    {
      "cell_type": "markdown",
      "id": "ff67080e-e7ea-48c1-b1dc-1a9555e93c42",
      "metadata": {
        "id": "ff67080e-e7ea-48c1-b1dc-1a9555e93c42"
      },
      "source": [
        "<h1 align=center style=\"line-height:200%;font-family:vazir;color:#0099cc\">\n",
        "<font face=\"vazir\" color=\"#0099cc\">\n",
        "دادگان گم‌شده و پرت\n",
        "</font>\n",
        "</h1>"
      ]
    },
    {
      "cell_type": "markdown",
      "id": "0986dcf2-c79a-43fa-b643-d012992e371a",
      "metadata": {
        "id": "0986dcf2-c79a-43fa-b643-d012992e371a"
      },
      "source": [
        "<p dir=rtl style=\"direction: rtl;text-align: right;line-height:200%;font-family:vazir;font-size:medium\">\n",
        "<font face=\"vazir\" size=3>\n",
        "غلامرضا علاقه شدیدی به حوزه کار با دیتا دارد و شروع به یادگیری کرده‌است. او برای تمرین بیشتری نیاز به یک مجموعه‌داده پیدا کرد و برای همین تصمیم گرفت از داده‌های تولیدشده دستگاه GPS ماشین پدرش استفاده کند. اما مشکلی به‌وجود آمد...!\n",
        "</ br>\n",
        "دستگاهی که توسط پدر غلامرضا خریداری شده‌بود، دستگاهی بود که گاهی‌اوقات داده‌هارا ثبت نمی‌کرد یا مقادیر عجیبی! ثبت می‌کرد. برای همین هم‌اکنون غلامرضا اندکی سردرگم شده‌است و از شما درخواست‌ دارد به کمک او بشتابید.\n",
        "</font>\n",
        "</p>"
      ]
    },
    {
      "cell_type": "markdown",
      "id": "bb87a370-158e-49ad-90c7-4a0038ae7a88",
      "metadata": {
        "id": "bb87a370-158e-49ad-90c7-4a0038ae7a88"
      },
      "source": [
        "\n",
        "<div dir=rtl id=\"start\" style=\"direction:rtl;line-height:200%;\">\n",
        "<font face=\"vazir\" size=3>\n",
        "برای آشنایی با توضیحات هر ستون نگاهی به جدول زیر بیاندازید:\n",
        "</font>\n",
        "</div>\n",
        "\n",
        "</br>\n",
        "\n",
        "<p dir=rtl style=\"direction: rtl;text-align: right;line-height:200%;font-family:vazir;font-size:medium\">\n",
        "<table dir=rtl align = center>\n",
        "    \n",
        "<tr>\n",
        "    <th align = center><font face=\"vazir\" size=3>نام ستون</font></th>\n",
        "    <th align = center><font face=\"vazir\" size=3>توضیح</font></th>\n",
        "</tr>\n",
        "\n",
        "<tr>\n",
        "    <td align = center><font face=\"vazir\" size=3>Date</font></td>\n",
        "    <td align = center><font face=\"vazir\" size=3>تاریخ سفر</font></td>\n",
        "</tr>\n",
        "    \n",
        "<tr>\n",
        "    <td align = center><font face=\"vazir\" size=3>StartTime</font></td>\n",
        "    <td align = center><font face=\"vazir\" size=3>ساعت ماشین سوار شدن</font></td>\n",
        "</tr\n",
        "    \n",
        "<tr>\n",
        "    <td align = center><font face=\"vazir\" size=3>DayOfWeek</font></td>\n",
        "    <td align = center><font face=\"vazir\" size=3>نام روز در هفته</font></td>\n",
        "</tr>\n",
        "    \n",
        "<tr>\n",
        "    <td align = center><font face=\"vazir\" size=3>GoingTo</font></td>\n",
        "    <td align = center><font face=\"vazir\" size=3>مقصد سفر پدر غلامرضا. یا به محل کار(work) و یا به خانه (home)</font></td>\n",
        "</tr>\n",
        "    \n",
        "<tr>\n",
        "    <td align = center><font face=\"vazir\" size=3>Distance</font></td>\n",
        "    <td align = center><font face=\"vazir\" size=3>مسافت طی‌شده به کیلومتر</font></td>\n",
        "</tr>\n",
        "    \n",
        "<tr>\n",
        "    <td align = center><font face=\"vazir\" size=3>MaxSpeed</font></td>\n",
        "    <td align = center><font face=\"vazir\" size=3>سریع ترین سرعت ثبت شده</font></td>\n",
        "</tr>\n",
        "    \n",
        "<tr>\n",
        "    <td align = center><font face=\"vazir\" size=3>AvgSpeed</font></td>\n",
        "    <td align = center><font face=\"vazir\" size=3>میانگین سرعت برای کل سفر</font></td>\n",
        "</tr>\n",
        "    \n",
        "<tr>\n",
        "    <td align = center><font face=\"vazir\" size=3>AvgMovingSpeed</font></td>\n",
        "    <td align = center><font face=\"vazir\" size=3>میانگین سرعت ثبت شده فقط در حین حرکت خودرو</font></td>\n",
        "</tr>\n",
        "    \n",
        "<tr>\n",
        "    <td align = center><font face=\"vazir\" size=3>FuelEconomy</font></td>\n",
        "    <td align = center><font face=\"vazir\" size=3>تخمین تقریبی از مصرف سوخت</font></td>\n",
        "</tr>\n",
        "    \n",
        "<tr>\n",
        "    <td align = center><font face=\"vazir\" size=3>TotalTime</font></td>\n",
        "    <td align = center><font face=\"vazir\" size=3>مدت کل سفر، به دقیقه</font></td>\n",
        "</tr>\n",
        "    \n",
        "<tr>\n",
        "    <td align = center><font face=\"vazir\" size=3>MaxSpeed</font></td>\n",
        "    <td align = center><font face=\"vazir\" size=3>سریع ترین سرعت ثبت شده</font></td>\n",
        "</tr>\n",
        "    \n",
        "<tr>\n",
        "    <td align = center><font face=\"vazir\" size=3>MaxSpeed</font></td>\n",
        "    <td align = center><font face=\"vazir\" size=3>سریع ترین سرعت ثبت شده</font></td>\n",
        "</tr>\n",
        "    \n",
        "<tr>\n",
        "    <td align = center><font face=\"vazir\" size=3>MovingTime</font></td>\n",
        "    <td align = center><font face=\"vazir\" size=3>مدت زمانی که ماشین در حال حرکت است (یعنی بدون احتساب تاخیرهای ترافیکی، تصادفات، یا زمانی که ماشین ساکن است)</font></td>\n",
        "</tr>\n",
        "\n",
        "<tr>\n",
        "    <td align = center><font face=\"vazir\" size=3>Toll</font></td>\n",
        "    <td align = center><font face=\"vazir\" size=3>در زمان‌هایی که پدرغلامرضا دیرش شده‌است، از مسیرهایی می‌رود که مجبور به پرداخت عوارض است. هنگامی که این اتفاق بیفتد در این ستون Yes نوشته می‌شود و هنگامی‌که از مسیرهایی که عوارضی‌ ندارد سفر طی شود، مقدار No نوشته می‌شود</font></td>\n",
        "</tr>\n",
        "    \n",
        "<tr>\n",
        "    <td align = center><font face=\"vazir\" size=3>Comments</font></td>\n",
        "    <td align = center><font face=\"vazir\" size=3>یادداشت‌های ثبت‌شده توسط پدر غلامرضا به شکلی دستی</font></td>\n",
        "</tr>\n",
        "\n",
        "</table>\n",
        "</p>\n"
      ]
    },
    {
      "cell_type": "markdown",
      "id": "4d0f9cec-599e-4107-8dc0-fb4562ac521b",
      "metadata": {
        "id": "4d0f9cec-599e-4107-8dc0-fb4562ac521b"
      },
      "source": [
        "<p dir=rtl style=\"direction: rtl;text-align: right;line-height:200%;font-family:vazir;font-size:medium\">\n",
        "<font face=\"vazir\" size=3>\n",
        "در این قسمت، کتاب‌خانه‌های مورد نیاز import می‌شود.</font>\n",
        "</p>"
      ]
    },
    {
      "cell_type": "code",
      "execution_count": null,
      "id": "4f7fa8fc-75f7-4e01-89d5-0a712018e6ba",
      "metadata": {
        "id": "4f7fa8fc-75f7-4e01-89d5-0a712018e6ba"
      },
      "outputs": [],
      "source": [
        "import numpy as np\n",
        "import pandas as pd\n",
        "from flaml import AutoML\n",
        "from matplotlib import pyplot as plt\n",
        "import seaborn as sns"
      ]
    },
    {
      "cell_type": "markdown",
      "id": "7d7e2ee7-3173-4132-ac14-1ac64eb7918f",
      "metadata": {
        "id": "7d7e2ee7-3173-4132-ac14-1ac64eb7918f"
      },
      "source": [
        "<p dir=rtl style=\"direction: rtl;text-align: right;line-height:200%;font-family:vazir;font-size:medium\">\n",
        "<font face=\"vazir\" size=3>\n",
        "برای شروع، داده‌ها را خوانده و نگاهی به آن‌ها می‌اندازیم:\n",
        "</font>\n",
        "</p>"
      ]
    },
    {
      "cell_type": "code",
      "execution_count": null,
      "id": "c89f4360-e4d6-4988-bf44-af7252042241",
      "metadata": {
        "id": "c89f4360-e4d6-4988-bf44-af7252042241"
      },
      "outputs": [],
      "source": [
        "# read csv file\n",
        "df = # to do\n",
        "df"
      ]
    },
    {
      "cell_type": "markdown",
      "id": "13538ea1-6d82-4983-b087-5349d474dc50",
      "metadata": {
        "id": "13538ea1-6d82-4983-b087-5349d474dc50"
      },
      "source": [
        "<p dir=rtl style=\"direction: rtl;text-align: right;line-height:200%;font-family:vazir;font-size:medium\">\n",
        "<font face=\"vazir\" size=3>\n",
        "با صدا زدن متد info، نگاهی کلی به دیتاست می‌اندازیم.\n",
        "</font>\n",
        "</p>"
      ]
    },
    {
      "cell_type": "code",
      "execution_count": null,
      "id": "99668442-b598-463c-9ab4-38369a71c4aa",
      "metadata": {
        "id": "99668442-b598-463c-9ab4-38369a71c4aa"
      },
      "outputs": [],
      "source": [
        "df.info()"
      ]
    },
    {
      "cell_type": "markdown",
      "id": "7a20dd16-9402-4733-90d7-a36239ad38a2",
      "metadata": {
        "id": "7a20dd16-9402-4733-90d7-a36239ad38a2"
      },
      "source": [
        "<p dir=rtl style=\"direction: rtl;text-align: right;line-height:200%;font-family:vazir;font-size:medium\">\n",
        "<font face=\"vazir\" size=3>\n",
        "همان‌طور که مشاهده می‌شود، به‌جز ستون‌های TotalTime، FuelEconomy، Toll و Comments، تمامی ستون‌ها حاوی مقادیر غیر NaN می‌باشند\n",
        "    </ br>\n",
        "    تعداد مقادیر NaN ستون Comments، بسیار بیشتر از مقادیر غیر NaN آن است. بنابراین این ستون را از دیتاست خود حذف کنید.\n",
        "</font>\n",
        "</p>"
      ]
    },
    {
      "cell_type": "code",
      "execution_count": null,
      "id": "8778fb8d-fb6c-49a8-96d2-94b3a6273b99",
      "metadata": {
        "id": "8778fb8d-fb6c-49a8-96d2-94b3a6273b99"
      },
      "outputs": [],
      "source": [
        "# drop comments column\n",
        "df = # to do\n",
        "df"
      ]
    },
    {
      "cell_type": "markdown",
      "id": "87ba83ba-de83-4c14-9550-25d3bda443fe",
      "metadata": {
        "id": "87ba83ba-de83-4c14-9550-25d3bda443fe"
      },
      "source": [
        "<p dir=rtl style=\"direction: rtl;text-align: right;line-height:200%;font-family:vazir;font-size:medium\">\n",
        "<font face=\"vazir\" size=3>\n",
        "مقادیر گم‌شده ستون‌های FuelEconomy و AvgMovingSpeed را با میانگین این ستون‌ها پر کنید. (مقادیر میانگین‌گرفته‌شده‌را تا دو رقم اعشار با تابع round، گرد کنید)\n",
        "</font>\n",
        "</p>"
      ]
    },
    {
      "cell_type": "code",
      "execution_count": null,
      "id": "e9484a1f-26ab-4387-8101-69bb3e687cf4",
      "metadata": {
        "id": "e9484a1f-26ab-4387-8101-69bb3e687cf4"
      },
      "outputs": [],
      "source": [
        "# fill NaN values in the AvgMovingSpeed and FuelEconomy\n",
        "# to do\n",
        "df"
      ]
    },
    {
      "cell_type": "markdown",
      "id": "50a94b22-4807-4dcc-b18f-43ecad17636f",
      "metadata": {
        "id": "50a94b22-4807-4dcc-b18f-43ecad17636f"
      },
      "source": [
        "<p dir=rtl style=\"direction: rtl;text-align: right;line-height:200%;font-family:vazir;font-size:medium\">\n",
        "<font face=\"vazir\" size=3>\n",
        "یکی از راه‌های پرکردن مقادیر گم‌شده، پیش‌بینی آن‌ها با استفاده از مدل‌های یادگیری‌ماشین می‌باشد. برای همین منظور، چند سلول کد زیر را اجرا کنید تا مقادیر NaN ستون‌های TotalTime و Toll پیدا شود. هرچند از خودتان انتظار نداشته باشید هم‌اکنون از این کد سر در بیاورید. هنگامی که درسنامه مربوطه در ادامه دوره‌ را خواندید، دوباره به این بخش از درسنامه سر بزنید.    </font>\n",
        "</p>"
      ]
    },
    {
      "cell_type": "code",
      "execution_count": null,
      "id": "007bd46a-0058-4a9c-a132-ec10f5554d06",
      "metadata": {
        "id": "007bd46a-0058-4a9c-a132-ec10f5554d06"
      },
      "outputs": [],
      "source": [
        "automl_reg = AutoML()\n",
        "x_train, x_test = df.dropna(subset=['TotalTime']), df[df.TotalTime.isna()]\n",
        "y_train = df[~df.TotalTime.isna()].TotalTime\n",
        "automl_reg.fit(x_train, y_train, task=\"regression\", verbose=False)\n",
        "y_pred = automl_reg.predict(x_test)"
      ]
    },
    {
      "cell_type": "code",
      "execution_count": null,
      "id": "da0402e8-1a2c-4cfd-ad38-a4fc8f6dcc8d",
      "metadata": {
        "id": "da0402e8-1a2c-4cfd-ad38-a4fc8f6dcc8d"
      },
      "outputs": [],
      "source": [
        "df.loc[df.TotalTime.isna(), 'TotalTime'] = y_pred\n",
        "df.info()"
      ]
    },
    {
      "cell_type": "code",
      "execution_count": null,
      "id": "2c9fa3c1-17b3-4bf9-96a4-4265fc6c5cbe",
      "metadata": {
        "id": "2c9fa3c1-17b3-4bf9-96a4-4265fc6c5cbe"
      },
      "outputs": [],
      "source": [
        "automl_clf = AutoML()\n",
        "x_train, x_test = df.dropna(subset=['Toll']), df[df.Toll.isna()]\n",
        "y_train = df[~df.Toll.isna()].Toll\n",
        "automl_clf.fit(x_train, y_train, task=\"classification\", verbose=False)\n",
        "y_pred = automl_clf.predict(x_test)"
      ]
    },
    {
      "cell_type": "code",
      "execution_count": null,
      "id": "1b4e0800-e6b5-4fd2-8eed-40110fabd5a2",
      "metadata": {
        "id": "1b4e0800-e6b5-4fd2-8eed-40110fabd5a2"
      },
      "outputs": [],
      "source": [
        "df.loc[df.Toll.isna(), 'Toll'] = y_pred\n",
        "df.info()"
      ]
    },
    {
      "cell_type": "markdown",
      "id": "92ec9727-efdb-4bfd-8c18-754f71db4bad",
      "metadata": {
        "id": "92ec9727-efdb-4bfd-8c18-754f71db4bad"
      },
      "source": [
        "<p dir=rtl style=\"direction: rtl;text-align: right;line-height:200%;font-family:vazir;font-size:medium\">\n",
        "<font face=\"vazir\" size=3>\n",
        "حال در این قسمت کار با داده‌های گم‌شده به اتمام رسید. مرحله بعدی کار با داده‌های پرت می‌باشد. برای شناسایی داده‌های پرت ابتدا با boxplot، نمودارهای ستون های numerical را رسم میکنیم. \n",
        "    </font>\n",
        "</p>"
      ]
    },
    {
      "cell_type": "code",
      "execution_count": null,
      "id": "56010343-bc08-40ff-8d4f-1aba775d9d22",
      "metadata": {
        "id": "56010343-bc08-40ff-8d4f-1aba775d9d22"
      },
      "outputs": [],
      "source": [
        "fig, ax = plt.subplots(4, 2, figsize=(20, 15))\n",
        "sns.boxplot(x=df.Distance, ax = ax[0,0])\n",
        "sns.boxplot(x=df.MaxSpeed, ax = ax[0,1])\n",
        "sns.boxplot(x=df.AvgSpeed, ax = ax[1,0])\n",
        "sns.boxplot(x=df.AvgMovingSpeed, ax = ax[1,1])\n",
        "sns.boxplot(x=df.FuelEconomy, ax = ax[2,0])\n",
        "sns.boxplot(x=df.TotalTime, ax = ax[2,1])\n",
        "sns.boxplot(x=df.MovingTime, ax = ax[3,0])"
      ]
    },
    {
      "cell_type": "markdown",
      "id": "4d379375-d574-4cf8-963f-3479860cf139",
      "metadata": {
        "id": "4d379375-d574-4cf8-963f-3479860cf139"
      },
      "source": [
        "<p dir=rtl style=\"direction: rtl;text-align: right;line-height:200%;font-family:vazir;font-size:medium\">\n",
        "<font face=\"vazir\" size=3>\n",
        "همانطور که در نمودار جعبه‌ای MaxSpeed مشاهده می‌شود، داده‌های پرت زیادی در این ستون وجود دارد (حتی داده‌منفی برای سرعت!). بنابراین باید این داده‌هارا شناسایی و حذف کرد.\n",
        "</ br>\n",
        "در قسمت پایین با استفاده از چارک‌ها و محاسبه IQR، داده‌های پرت ستون MaxSpeed را شناسایی کرده و به شکل سورت شده در لیست outlier_speed بریزید و مقادیر پرت ستون MaxSpeed  را با میانگین این ستون با دو رقم اعشار با استفاده از تابع round جایگزین کنید . (توجه کنید داده‌های پرت این ستون، نباید تاثیری بر میانگین بگذارند و بدون درنظر گرفتن آن‌ها باید میانگین محاسبه شود.)\n",
        "</font>\n",
        "</p>"
      ]
    },
    {
      "cell_type": "code",
      "execution_count": null,
      "id": "0f5c0e95-56c7-4a05-a90a-e8c2980ef9dd",
      "metadata": {
        "id": "0f5c0e95-56c7-4a05-a90a-e8c2980ef9dd"
      },
      "outputs": [],
      "source": [
        "outlier_speed = # to do\n",
        "outlier_speed"
      ]
    },
    {
      "cell_type": "code",
      "execution_count": null,
      "id": "06825b89-95c9-4c70-b598-a490db9d2705",
      "metadata": {
        "id": "06825b89-95c9-4c70-b598-a490db9d2705"
      },
      "outputs": [],
      "source": [
        "# replace outliers with avg of MaxSpeed \n",
        "# to do"
      ]
    },
    {
      "cell_type": "markdown",
      "id": "a4a22cdd-aace-4f5d-8aa8-8483698aa855",
      "metadata": {
        "id": "a4a22cdd-aace-4f5d-8aa8-8483698aa855"
      },
      "source": [
        "<p dir=rtl style=\"direction: rtl;text-align: right;line-height:200%;font-family:vazir;font-size:medium\">\n",
        "<font face=\"vazir\" size=3>\n",
        "هم‌اکنون دوباره نمودار جعبه‌ای ستون MaxSpeed را رسم می‌کنیم. اگر مرحله بالا به درستی انجام شده‌باشد، باید شاهد تغییر در نمودار جعبه‌ای این ستون باشیم. \n",
        "</font>\n",
        "</p>"
      ]
    },
    {
      "cell_type": "code",
      "execution_count": null,
      "id": "7279fc95-8728-469f-94ad-e19e08c0e256",
      "metadata": {
        "id": "7279fc95-8728-469f-94ad-e19e08c0e256"
      },
      "outputs": [],
      "source": [
        "fig, ax = plt.subplots(figsize=(10, 4))\n",
        "sns.boxplot(x=df.MaxSpeed)"
      ]
    },
    {
      "cell_type": "markdown",
      "id": "8a4fc50a-66ee-45ac-a6ac-50cc73c5b469",
      "metadata": {
        "id": "8a4fc50a-66ee-45ac-a6ac-50cc73c5b469"
      },
      "source": [
        "<h2 align=right style=\"line-height:200%;font-family:vazir;color:#0099cc\">\n",
        "<font face=\"vazir\" color=\"#0099cc\">\n",
        "<b>سلول جواب‌ساز</b>\n",
        "</font>\n",
        "</h2>"
      ]
    },
    {
      "cell_type": "code",
      "execution_count": null,
      "id": "b85c7a9b-0fd7-4473-9314-0639091acfa7",
      "metadata": {
        "id": "b85c7a9b-0fd7-4473-9314-0639091acfa7"
      },
      "outputs": [],
      "source": [
        "import zlib\n",
        "import zipfile\n",
        "\n",
        "\n",
        "def compress(file_names):\n",
        "    print(\"File Paths:\")\n",
        "    print(file_names)\n",
        "    compression = zipfile.ZIP_DEFLATED\n",
        "    with zipfile.ZipFile(\"result.zip\", mode=\"w\") as zf:\n",
        "        for file_name in file_names:\n",
        "            zf.write('./' + file_name, file_name, compress_type=compression)\n",
        "\n",
        "np.savez(\"answers.npz\", outlier_speed= outlier_speed)\n",
        "df.to_csv('preprocessed_df.csv',index = True)\n",
        "\n",
        "file_names = [\"answers.npz\", \"preprocessed_df.csv\", \"correct_routing.ipynb\"]\n",
        "compress(file_names)"
      ]
    },
    {
      "cell_type": "code",
      "execution_count": null,
      "id": "6b6b0ee7-994b-4220-8fea-d53149bdb881",
      "metadata": {
        "id": "6b6b0ee7-994b-4220-8fea-d53149bdb881"
      },
      "outputs": [],
      "source": []
    }
  ],
  "metadata": {
    "kernelspec": {
      "display_name": "Python 3 (ipykernel)",
      "language": "python",
      "name": "python3"
    },
    "language_info": {
      "codemirror_mode": {
        "name": "ipython",
        "version": 3
      },
      "file_extension": ".py",
      "mimetype": "text/x-python",
      "name": "python",
      "nbconvert_exporter": "python",
      "pygments_lexer": "ipython3",
      "version": "3.9.6"
    },
    "colab": {
      "provenance": [],
      "include_colab_link": true
    }
  },
  "nbformat": 4,
  "nbformat_minor": 5
}